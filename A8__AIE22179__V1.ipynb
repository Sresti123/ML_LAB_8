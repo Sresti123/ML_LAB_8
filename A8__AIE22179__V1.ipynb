{
 "cells": [
  {
   "cell_type": "markdown",
   "metadata": {},
   "source": [
    "# A1"
   ]
  },
  {
   "cell_type": "code",
   "execution_count": 3,
   "metadata": {},
   "outputs": [
    {
     "name": "stdout",
     "output_type": "stream",
     "text": [
      "Root Node Feature: Open\n"
     ]
    }
   ],
   "source": [
    "import numpy as np\n",
    "import pandas as pd\n",
    "\n",
    "def calculate_entropy(y):\n",
    "    classes, counts = np.unique(y, return_counts=True)\n",
    "    probabilities = counts / len(y)\n",
    "    entropy = -np.sum(probabilities * np.log2(probabilities + 1e-9))  # Added epsilon for numerical stability\n",
    "    return entropy\n",
    "\n",
    "def calculate_information_gain(X, y, feature):\n",
    "    total_entropy = calculate_entropy(y)\n",
    "    values, counts = np.unique(X[feature], return_counts=True)\n",
    "    weighted_entropy = np.sum([(counts[i] / np.sum(counts)) * calculate_entropy(y[X[feature] == values[i]]) for i in range(len(values))])\n",
    "    information_gain = total_entropy - weighted_entropy\n",
    "    return information_gain\n",
    "\n",
    "def find_root_node(X, y):\n",
    "    information_gains = {feature: calculate_information_gain(X, y, feature) for feature in X.columns}\n",
    "    root_node = max(information_gains, key=information_gains.get)\n",
    "    return root_node\n",
    "\n",
    "# Load the dataset\n",
    "data = pd.read_csv('C:\\\\Users\\\\srest\\\\Downloads\\\\Stock-Price-Prediction-Using-Machine-Learning-main\\\\Stock-Price-Prediction-Using-Machine-Learning-main\\\\ICICI_BANK.csv')\n",
    "data.describe()\n",
    "data.shape\n",
    "data.isnull().sum()\n",
    "data = data.dropna()\n",
    "data.isnull().sum()\n",
    "\n",
    "# Encode target variable based on price movement\n",
    "data['Target'] = np.where(data['Close'] > data['Open'], 1, 0)\n",
    "\n",
    "# Define features and target variable\n",
    "X_project = data[['Open']]\n",
    "y_project = data[['Target']]\n",
    "\n",
    "# Find the root node feature\n",
    "root_node_feature = find_root_node(X_project, y_project)\n",
    "print(\"Root Node Feature:\", root_node_feature)\n"
   ]
  },
  {
   "cell_type": "markdown",
   "metadata": {},
   "source": [
    "# A2"
   ]
  },
  {
   "cell_type": "code",
   "execution_count": 4,
   "metadata": {},
   "outputs": [
    {
     "name": "stdout",
     "output_type": "stream",
     "text": [
      "Binned Open Feature:\n",
      " [3 3 3 ... 2 2 2]\n"
     ]
    }
   ],
   "source": [
    "def bin_continuous_feature(X, feature, num_bins=5, binning_type='equal_width'):\n",
    "    if binning_type == 'equal_width':\n",
    "        bins = np.linspace(X[feature].min(), X[feature].max(), num_bins + 1)\n",
    "        binned_feature = np.digitize(X[feature], bins)\n",
    "    elif binning_type == 'frequency':\n",
    "        bins = np.percentile(X[feature], np.arange(0, 100, 100 / num_bins))\n",
    "        binned_feature = np.digitize(X[feature], bins)\n",
    "    else:\n",
    "        raise ValueError(\"Invalid binning type. Choose 'equal_width' or 'frequency'.\")\n",
    "    return binned_feature\n",
    "\n",
    "# Example usage of binning\n",
    "binned_open = bin_continuous_feature(X_project, 'Open', num_bins=5, binning_type='equal_width')\n",
    "print(\"Binned Open Feature:\\n\", binned_open)"
   ]
  },
  {
   "cell_type": "markdown",
   "metadata": {},
   "source": [
    "# A3"
   ]
  },
  {
   "cell_type": "code",
   "execution_count": 7,
   "metadata": {},
   "outputs": [],
   "source": [
    "class DecisionTree:\n",
    "    def __init__(self, max_depth=None, num_bins=5, binning_type='equal_width'):\n",
    "        self.max_depth = max_depth\n",
    "        self.num_bins = num_bins\n",
    "        self.binning_type = binning_type\n",
    "        self.tree = None\n",
    "\n",
    "    def fit(self, X, y):\n",
    "        self.tree = self._build_tree(X, y, depth=0)\n",
    "\n",
    "    def _build_tree(self, X, y, depth):\n",
    "        if depth == self.max_depth or len(np.unique(y)) == 1:\n",
    "            leaf_node = {'label': np.argmax(np.bincount(y)), 'samples': len(y)}\n",
    "            return leaf_node\n",
    "        \n",
    "        if X.empty:  # Check if there are no features left to split on\n",
    "            leaf_node = {'label': np.argmax(np.bincount(y)), 'samples': len(y)}\n",
    "            return leaf_node\n",
    "\n",
    "        root_node_feature = find_root_node(X, y)\n",
    "        if X[root_node_feature].dtype == np.float64 or X[root_node_feature].dtype == np.int64:\n",
    "            X[root_node_feature] = bin_continuous_feature(X, root_node_feature, num_bins=self.num_bins, binning_type=self.binning_type)\n",
    "\n",
    "        unique_values = np.unique(X[root_node_feature])\n",
    "        sub_trees = {}\n",
    "        for value in unique_values:\n",
    "            X_subset = X[X[root_node_feature] == value]\n",
    "            y_subset = y[X[root_node_feature] == value]\n",
    "            sub_trees[value] = self._build_tree(X_subset.drop(root_node_feature, axis=1), y_subset, depth + 1)\n",
    "        \n",
    "        return {'feature': root_node_feature, 'sub_trees': sub_trees}\n",
    "\n",
    "    def predict(self, X):\n",
    "        predictions = []\n",
    "        for _, row in X.iterrows():\n",
    "            predictions.append(self._predict_row(row, self.tree))\n",
    "        return predictions\n",
    "\n",
    "    def _predict_row(self, row, tree):\n",
    "        if 'label' in tree:\n",
    "            return tree['label']\n",
    "        else:\n",
    "            feature_value = row[tree['feature']]\n",
    "            if feature_value in tree['sub_trees']:\n",
    "                return self._predict_row(row, tree['sub_trees'][feature_value])\n",
    "            else:\n",
    "                # Handle unseen feature values by predicting the majority class\n",
    "                return np.argmax(np.bincount(y_project))\n"
   ]
  }
 ],
 "metadata": {
  "kernelspec": {
   "display_name": "Python 3",
   "language": "python",
   "name": "python3"
  },
  "language_info": {
   "codemirror_mode": {
    "name": "ipython",
    "version": 3
   },
   "file_extension": ".py",
   "mimetype": "text/x-python",
   "name": "python",
   "nbconvert_exporter": "python",
   "pygments_lexer": "ipython3",
   "version": "3.11.4"
  }
 },
 "nbformat": 4,
 "nbformat_minor": 2
}
